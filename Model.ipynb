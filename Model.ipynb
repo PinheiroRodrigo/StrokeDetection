{
 "cells": [
  {
   "cell_type": "markdown",
   "metadata": {},
   "source": [
    "# Import Required Libraries"
   ]
  },
  {
   "cell_type": "code",
   "execution_count": 115,
   "metadata": {},
   "outputs": [],
   "source": [
    "# Standard useful data processing imports\n",
    "import random\n",
    "import numpy as np\n",
    "import pandas as pd\n",
    "import csv\n",
    "# Visualisation imports\n",
    "import matplotlib.pyplot as plt\n",
    "import seaborn as sns\n",
    "# Scikit learn for preprocessing\n",
    "from sklearn.model_selection import train_test_split\n",
    "from sklearn.preprocessing import LabelEncoder\n",
    "from sklearn.preprocessing import MultiLabelBinarizer\n",
    "# Keras Imports - CNN\n",
    "from keras.models import Sequential\n",
    "from keras.layers import Dense, Conv2D, MaxPool2D, Flatten, Dropout\n",
    "from keras.optimizers import Adam\n",
    "from keras.utils.np_utils import to_categorical"
   ]
  },
  {
   "cell_type": "markdown",
   "metadata": {},
   "source": [
    "# Model MK1"
   ]
  },
  {
   "cell_type": "code",
   "execution_count": 117,
   "metadata": {},
   "outputs": [
    {
     "name": "stdout",
     "output_type": "stream",
     "text": [
      "[[  0.   0.   0. ...   0.   0.   0.]\n",
      " [  1.   1.   1. ...   0.   0.   1.]\n",
      " [  2.   0.   0. ...   0.   0.   0.]\n",
      " ...\n",
      " [488.   1.   1. ...   0.   0.   1.]\n",
      " [489.   1.   0. ...   0.   0.   1.]\n",
      " [490.   0.   0. ...   0.   0.   0.]]\n",
      "[[1 0 0 ... 0 0 0]\n",
      " [1 1 0 ... 0 0 0]\n",
      " [1 0 1 ... 0 0 0]\n",
      " ...\n",
      " [1 1 0 ... 1 0 0]\n",
      " [1 1 0 ... 0 1 0]\n",
      " [1 0 0 ... 0 0 1]]\n"
     ]
    }
   ],
   "source": [
    "# use multilabels\n",
    "labels = np.loadtxt(open('/home/rodrigo/Projects/TCC/labels-merged.csv', \"rb\"), delimiter=\",\", skiprows=1)\n",
    "labels2 = MultiLabelBinarizer().fit_transform(labels)"
   ]
  },
  {
   "cell_type": "markdown",
   "metadata": {},
   "source": [
    "# Read Label File"
   ]
  },
  {
   "cell_type": "code",
   "execution_count": 112,
   "metadata": {
    "scrolled": true
   },
   "outputs": [],
   "source": [
    "# path = '/home/rodrigo/Projects/TCC/'\n",
    "# file = 'labels2.csv'\n",
    "# labels = np.loadtxt(open(path + file, \"rb\"), delimiter=\",\", skiprows=1)\n",
    "# exams = labels[:, 0]\n",
    "# ich = [ int(x/2) for x in np.sum(labels[:,1:4], axis=1) ]\n",
    "# iph = [ int(x/2) for x in np.sum(labels[:,4:7], axis=1)]\n",
    "# ivh = [ int(x/2) for x in np.sum(labels[:,7:10], axis=1)]\n",
    "# sdh = [ int(x/2) for x in np.sum(labels[:,10:13], axis=1)]\n",
    "# edh = [ int(x/2) for x in np.sum(labels[:,13:16], axis=1)]\n",
    "# sah = [ int(x/2) for x in np.sum(labels[:,16:19], axis=1)]\n",
    "# result = np.transpose(np.matrix([exams, ich, iph, ivh, sdh, edh, sah]))\n",
    "# np.savetxt(path + 'labels-merged.csv', result, delimiter=\",\")"
   ]
  }
 ],
 "metadata": {
  "kernelspec": {
   "display_name": "Python 3",
   "language": "python",
   "name": "python3"
  },
  "language_info": {
   "codemirror_mode": {
    "name": "ipython",
    "version": 3
   },
   "file_extension": ".py",
   "mimetype": "text/x-python",
   "name": "python",
   "nbconvert_exporter": "python",
   "pygments_lexer": "ipython3",
   "version": "3.6.8"
  }
 },
 "nbformat": 4,
 "nbformat_minor": 2
}
