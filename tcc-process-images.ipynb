{
 "cells": [
  {
   "cell_type": "markdown",
   "metadata": {},
   "source": [
    "# Import Required Libraries"
   ]
  },
  {
   "cell_type": "code",
   "execution_count": 1,
   "metadata": {},
   "outputs": [],
   "source": [
    "import os\n",
    "import cv2\n",
    "import gdcm\n",
    "import numpy as np\n",
    "from matplotlib import pyplot, image\n",
    "from scipy import ndimage"
   ]
  },
  {
   "cell_type": "markdown",
   "metadata": {},
   "source": [
    "# Read and Plot Functions "
   ]
  },
  {
   "cell_type": "code",
   "execution_count": 2,
   "metadata": {},
   "outputs": [],
   "source": [
    "def read_image(filepath):\n",
    "    # Read grayscale DICOM image\n",
    "    image = cv2.imread(filepath)\n",
    "    return image\n",
    "def generate_histogram(image):\n",
    "    # Calculate Histogram\n",
    "    histogram = cv2.calcHist([image], [0], None, [256], [0, 256])\n",
    "    return histogram"
   ]
  },
  {
   "cell_type": "code",
   "execution_count": 3,
   "metadata": {},
   "outputs": [],
   "source": [
    "def plot_image(image):\n",
    "    imgplot = pyplot.imshow(image, cmap=pyplot.cm.bone)\n",
    "    \n",
    "def plot_histogram(histogram):\n",
    "    # configure and draw the histogram figure\n",
    "    pyplot.figure()\n",
    "    pyplot.title(\"CT-Scan Histogram\")\n",
    "    pyplot.xlabel(\"grayscale value\")\n",
    "    pyplot.ylabel(\"pixels\")\n",
    "    pyplot.xlim([0, 256])\n",
    "    # TODO: qual será o limite de y?\n",
    "    pyplot.ylim([0, 5000])\n",
    "    pyplot.plot(histogram)\n",
    "    pyplot.show()"
   ]
  },
  {
   "cell_type": "markdown",
   "metadata": {},
   "source": [
    "# Image Processing Functions "
   ]
  },
  {
   "cell_type": "code",
   "execution_count": 4,
   "metadata": {},
   "outputs": [],
   "source": [
    "# Remove skull/ventricle pixels (TODO: Optimize this)\n",
    "def remove_skull_and_ventricles(img):\n",
    "    img[np.where((img >= [250,250,250]).all(axis = 2))] = [0,0,0]\n",
    "    img[np.where((img <= [100,100,100]).all(axis = 2))] = [0,0,0]\n",
    "    return img\n",
    "\n",
    "def median_filter(img):\n",
    "    img = ndimage.median_filter(img, 10)\n",
    "    return img\n",
    "\n",
    "# Returns image biggest_contour and mask\n",
    "def find_biggest_contour(img):\n",
    "    contours, hierarchy = cv2.findContours(img, cv2.RETR_TREE, cv2.CHAIN_APPROX_SIMPLE)\n",
    "\n",
    "    # Isolate largest contour\n",
    "    contour_sizes = [(cv2.contourArea(contour), contour) for contour in contours]\n",
    "    biggest_contour = max(contour_sizes, key=lambda x: x[0])[1]\n",
    "\n",
    "    mask = np.zeros(img.shape, np.uint8)\n",
    "    cv2.drawContours(mask, [biggest_contour], -1, 255, -1)\n",
    "    return biggest_contour, mask \n",
    "\n",
    "# Remove soft tissues using biggest contour\n",
    "def remove_soft_tissues(img):\n",
    "    imgray = cv2.cvtColor(img, cv2.COLOR_BGR2GRAY)\n",
    "    ret, thresh = cv2.threshold(imgray, 100, 254, 0)\n",
    "    biggest_contour, mask = find_biggest_contour(thresh)\n",
    "    biggest_contour_image = np.bitwise_and(imgray, mask, mask)\n",
    "    return biggest_contour_image, imgray\n",
    "\n",
    "# use threshold to isolate likely areas of bleeding\n",
    "def isolate_hemorrhages(img, imgray):\n",
    "    # TODO: maybe get a average value for normal cerebral mass pixel color to use on threshold lower limit\n",
    "    # Global Threshold\n",
    "    ret2, thresh = cv2.threshold(img, 145, 254, cv2.THRESH_BINARY)\n",
    "    final_image = np.bitwise_and(imgray, thresh, thresh)\n",
    "    return final_image\n",
    "    \n",
    "def write_processed_image(img, directory, filename):\n",
    "    processed_filepath = directory + 'processed-' + filename\n",
    "    cv2.imwrite(processed_filepath, img)"
   ]
  },
  {
   "cell_type": "markdown",
   "metadata": {},
   "source": [
    "# Image Processing"
   ]
  },
  {
   "cell_type": "code",
   "execution_count": 5,
   "metadata": {},
   "outputs": [],
   "source": [
    "directory = \"/home/rodrigo/Pictures/\"\n",
    "filename = \"hounsfield1.png\"\n",
    "filepath = directory + filename"
   ]
  },
  {
   "cell_type": "code",
   "execution_count": 7,
   "metadata": {},
   "outputs": [
    {
     "data": {
      "image/png": "[encoded data removed]",
      "text/plain": [
       "<Figure size 432x288 with 1 Axes>"
      ]
     },
     "metadata": {
      "needs_background": "light"
     },
     "output_type": "display_data"
    }
   ],
   "source": [
    "img = read_image(filepath)\n",
    "histogram = generate_histogram(img)\n",
    "plot_histogram(histogram)\n",
    "img_no_skull = remove_skull_and_ventricles(img)\n",
    "# plot_image(img_no_skull)\n",
    "img_median_filter = median_filter(img_no_skull)\n",
    "img_no_soft_tissues, imgray = remove_soft_tissues(img_median_filter)\n",
    "final_img = isolate_hemorrhages(img_no_soft_tissues, imgray)\n",
    "\n",
    "write_processed_image(final_img, directory, filename)"
   ]
  },
  {
   "cell_type": "code",
   "execution_count": null,
   "metadata": {},
   "outputs": [],
   "source": []
  }
 ],
 "metadata": {
  "kernelspec": {
   "display_name": "Python 3",
   "language": "python",
   "name": "python3"
  },
  "language_info": {
   "codemirror_mode": {
    "name": "ipython",
    "version": 3
   },
   "file_extension": ".py",
   "mimetype": "text/x-python",
   "name": "python",
   "nbconvert_exporter": "python",
   "pygments_lexer": "ipython3",
   "version": "3.6.8"
  }
 },
 "nbformat": 4,
 "nbformat_minor": 2
}
