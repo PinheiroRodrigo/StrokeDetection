{
 "cells": [
  {
   "cell_type": "code",
   "execution_count": 1,
   "metadata": {},
   "outputs": [],
   "source": [
    "import os\n",
    "import numpy as np\n",
    "import pydicom\n",
    "import gdcm\n",
    "from matplotlib import pyplot, cm\n",
    "import plotly.plotly as py\n",
    "import plotly\n",
    "plotly.tools.set_credentials_file(username='arashicage', api_key='HaYe75rMnuehNkQ1cFCR')"
   ]
  },
  {
   "cell_type": "code",
   "execution_count": 2,
   "metadata": {},
   "outputs": [],
   "source": [
    "directory = \"/home/rodrigo/Projects/TCC/samples/PatientThreeEightSix/ct-pre-contrast-5mm-std/\"\n",
    "filename = \"CT000024.dcm\"\n",
    "filepath = directory + filename\n",
    "\n",
    "ds = pydicom.dcmread(filepath)\n",
    "# pyplot.imshow(ds.pixel_array, cmap=pyplot.cm.bone)\n",
    "# pyplot.imshow(ds.pixel_array) "
   ]
  },
  {
   "cell_type": "code",
   "execution_count": 3,
   "metadata": {},
   "outputs": [],
   "source": [
    "def histogram_equalization(img, no_bins):\n",
    "    \n",
    "    #img- the image as a numpy.array\n",
    "    #the appropriate number of bins, `no_bins` in the histogram is chosen by experiments, \n",
    "    #until the contrast is convenient\n",
    "    \n",
    "    image_hist, bins = np.histogram(img.flatten(), no_bins, normed=True)\n",
    "    csum = image_hist.cumsum() \n",
    "    cdf_mult = np.max(img) * csum / csum[-1] # cdf multiplied by a factor\n",
    "\n",
    "    #  linear interpolation of cdf_mult to get new pixel values\n",
    "    im_new = np.interp(img.flatten(), bins[:-1],  cdf_mult)\n",
    "\n",
    "    return im_new.reshape(img.shape), cdf_mult"
   ]
  },
  {
   "cell_type": "code",
   "execution_count": 4,
   "metadata": {},
   "outputs": [],
   "source": [
    "pl_bone=[[0.0, 'rgb(0, 0, 0)'],\n",
    "         [0.05, 'rgb(10, 10, 14)'],\n",
    "         [0.1, 'rgb(21, 21, 30)'],\n",
    "         [0.15, 'rgb(33, 33, 46)'],\n",
    "         [0.2, 'rgb(44, 44, 62)'],\n",
    "         [0.25, 'rgb(56, 55, 77)'],\n",
    "         [0.3, 'rgb(66, 66, 92)'],\n",
    "         [0.35, 'rgb(77, 77, 108)'],\n",
    "         [0.4, 'rgb(89, 92, 121)'],\n",
    "         [0.45, 'rgb(100, 107, 132)'],\n",
    "         [0.5, 'rgb(112, 123, 143)'],\n",
    "         [0.55, 'rgb(122, 137, 154)'],\n",
    "         [0.6, 'rgb(133, 153, 165)'],\n",
    "         [0.65, 'rgb(145, 169, 177)'],\n",
    "         [0.7, 'rgb(156, 184, 188)'],\n",
    "         [0.75, 'rgb(168, 199, 199)'],\n",
    "         [0.8, 'rgb(185, 210, 210)'],\n",
    "         [0.85, 'rgb(203, 221, 221)'],\n",
    "         [0.9, 'rgb(220, 233, 233)'],\n",
    "         [0.95, 'rgb(238, 244, 244)'],\n",
    "         [1.0, 'rgb(255, 255, 255)']]"
   ]
  },
  {
   "cell_type": "code",
   "execution_count": 5,
   "metadata": {},
   "outputs": [],
   "source": [
    "def get_pl_image(dicom_filename, hist_equal=False, no_bins=None):\n",
    "    #dicom_filename- a string 'filename.dcm'\n",
    "    #no_bins is the number of bins for histogram when hist_equal=False, else it is None\n",
    "    #returns the np.array that defines the z-value for the heatmap representing the dicom image\n",
    "    \n",
    "    dic_file=pydicom.read_file(dicom_filename)\n",
    "    img=dic_file.pixel_array#get the image as a numpy.array\n",
    "    if hist_equal and isinstance(no_bins, int):\n",
    "        img_new=histogram_equalization(img, no_bins)[0]\n",
    "        img_new=np.array(img_new, dtype=np.int16)\n",
    "        return np.flipud(img_new)\n",
    "    else:\n",
    "        return np.flipud(img)"
   ]
  },
  {
   "cell_type": "code",
   "execution_count": 6,
   "metadata": {},
   "outputs": [],
   "source": [
    "def DICOM_heatmap(z, title, width=600, height=600, colorscale=pl_bone):\n",
    "\n",
    "    data=[dict(type='heatmap', \n",
    "           z=z, \n",
    "           colorscale=colorscale, \n",
    "           zsmooth='best',\n",
    "           colorbar=dict(thickness=20, ticklen=4),  \n",
    "              )\n",
    "         ]\n",
    "\n",
    "    axis=dict(zeroline=False, showgrid=False, ticklen=4)\n",
    "    layout=dict(width=600, height=600,\n",
    "            font=dict(family='Balto', size=12),\n",
    "            xaxis= dict(axis),\n",
    "            yaxis= dict(axis),\n",
    "            title= title\n",
    "            )\n",
    "    return  dict(data=data, layout=layout)"
   ]
  },
  {
   "cell_type": "code",
   "execution_count": 7,
   "metadata": {},
   "outputs": [
    {
     "name": "stdout",
     "output_type": "stream",
     "text": [
      "High five! You successfully sent some data to your account on plotly. View your plot in your browser at https://plot.ly/~arashicage/0 or inside your plot.ly account where it is named 'exemplo'\n"
     ]
    },
    {
     "name": "stderr",
     "output_type": "stream",
     "text": [
      "/home/rodrigo/miniconda3/envs/pydicomenv/lib/python3.6/site-packages/IPython/core/display.py:689: UserWarning:\n",
      "\n",
      "Consider using IPython.display.IFrame instead\n",
      "\n"
     ]
    },
    {
     "data": {
      "text/html": [
       "<iframe id=\"igraph\" scrolling=\"no\" style=\"border:none;\" seamless=\"seamless\" src=\"https://plot.ly/~arashicage/0.embed\" height=\"600px\" width=\"600px\"></iframe>"
      ],
      "text/plain": [
       "<plotly.tools.PlotlyDisplay object>"
      ]
     },
     "execution_count": 7,
     "metadata": {},
     "output_type": "execute_result"
    }
   ],
   "source": [
    "title1=\"Plotly viz of a DICOM medical image<br>\"\n",
    "pl_img1=get_pl_image(filepath)\n",
    "fig1=DICOM_heatmap(pl_img1, title1)\n",
    "py.iplot(fig1, filename='exemplo')"
   ]
  },
  {
   "cell_type": "code",
   "execution_count": null,
   "metadata": {},
   "outputs": [],
   "source": []
  },
  {
   "cell_type": "code",
   "execution_count": null,
   "metadata": {},
   "outputs": [],
   "source": []
  }
 ],
 "metadata": {
  "kernelspec": {
   "display_name": "Python 3",
   "language": "python",
   "name": "python3"
  },
  "language_info": {
   "codemirror_mode": {
    "name": "ipython",
    "version": 3
   },
   "file_extension": ".py",
   "mimetype": "text/x-python",
   "name": "python",
   "nbconvert_exporter": "python",
   "pygments_lexer": "ipython3",
   "version": "3.6.8"
  }
 },
 "nbformat": 4,
 "nbformat_minor": 2
}
