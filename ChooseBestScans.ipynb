{
 "cells": [
  {
   "cell_type": "code",
   "execution_count": 8,
   "metadata": {},
   "outputs": [],
   "source": [
    "import os\n",
    "import re\n",
    "import csv\n",
    "import numpy as np\n",
    "import pydicom\n",
    "from glob import glob\n",
    "from pydicom.filereader import read_dicomdir"
   ]
  },
  {
   "cell_type": "markdown",
   "metadata": {},
   "source": [
    "# Best scan for each study, create info dictionary"
   ]
  },
  {
   "cell_type": "code",
   "execution_count": 15,
   "metadata": {},
   "outputs": [],
   "source": [
    "# root_dir = '/home/rodrigo/Batch/'\n",
    "root_dir = '/home/rodrigo/processed-dataset/'\n",
    "\n",
    "# ['root_dir/CQ500CTX/', 'root_dir/CQ500CTX/']\n",
    "def get_exam_dirs(root_dir):\n",
    "    subdirs = []\n",
    "    for dir_entry in os.scandir(root_dir):\n",
    "        if dir_entry.is_dir() and dir_entry.name.startswith(\"CQ500\"):\n",
    "            # NONFUNCTION RenameDirs\n",
    "            subdirs.append(root_dir + dir_entry.name + \"/\")\n",
    "    return subdirs\n",
    "\n",
    "# this format will be: %{exam1: [mod1: [info], mod2: [info]], exam2: [mod3: [info], mod4: [info]]}\n",
    "def gen_exams_dictionary(exam_dirs):\n",
    "    exams_dict = dict()\n",
    "    for exam_dir in exam_dirs:\n",
    "        mods_dict = list()\n",
    "        for modality in os.listdir(exam_dir):\n",
    "            if not re.search(\"(POST|(?<!PRE )CONTRAST|BONE)\", modality):\n",
    "                dcm_files = glob(exam_dir + modality + \"/*.dcm\")\n",
    "                dcm_data = pydicom.read_file(dcm_files[0])\n",
    "                info = [modality, float(dcm_data.PixelSpacing[0]), float(dcm_data.PixelSpacing[1]), float(dcm_data.SliceThickness), len(dcm_files)]\n",
    "                mods_dict.append(info)\n",
    "        if mods_dict != []:\n",
    "            exams_dict[exam_dir] = mods_dict\n",
    "        else:\n",
    "            print(\"Warning: \" + exam_dir + \" has no usable modality\")\n",
    "    return exams_dict"
   ]
  },
  {
   "cell_type": "code",
   "execution_count": 18,
   "metadata": {
    "slideshow": {
     "slide_type": "-"
    }
   },
   "outputs": [],
   "source": [
    "# {'/home/rodrigo/Batch/CQ500CT0/': \n",
    "# ['modality', PxSpacing[0], PxSpacing[1], Thickness, n_slices]   \n",
    "#[['CT 4cc .', 0.443359,     0.443359,     0.625,     239], \n",
    "# ['CT Plain', 0.451172,     0.451172,     5.0,       30],\n",
    "# ['CT 4cc .', 0.443359,     0.443359,     5.0,     239]]\n",
    "# sort by 1) Thickness = 5, 2) Fewest Number of Slices\n",
    "\n",
    "def check_best_scan(exams_dictionary):\n",
    "    for exam_id in exams_dictionary:\n",
    "        scans_info = np.array(exams_dictionary[exam_id])\n",
    "        ind = scans_info[:,3].argsort()[::-1]\n",
    "        scans_info = scans_info[ind]\n",
    "        length = len(scans_info)\n",
    "        if scans_info[0][3] == '5.0':\n",
    "            for i in range(length):\n",
    "                if scans_info[-1][3] != '5.0':\n",
    "                    scans_info = scans_info[:-1, :]\n",
    "            scans_info = scans_info[scans_info[:,1].argsort()]\n",
    "            exams_dictionary[exam_id] = list(scans_info[0])\n",
    "        else:\n",
    "            scans_info = scans_info[scans_info[:,1].argsort()]\n",
    "            exams_dictionary[exam_id] = list(scans_info[0])\n",
    "    return exams_dictionary\n",
    "\n",
    "def save_best_scans(root_dir, best_scans_dict):\n",
    "    sorted_dict = dict(sorted(best_scans_dict.items()))\n",
    "    w = csv.writer(open(root_dir + \"BestScans.csv\", \"w\"))\n",
    "    for key, val in sorted_dict.items():\n",
    "        w.writerow([key, val])"
   ]
  },
  {
   "cell_type": "code",
   "execution_count": 19,
   "metadata": {
    "slideshow": {
     "slide_type": "-"
    }
   },
   "outputs": [
    {
     "name": "stdout",
     "output_type": "stream",
     "text": [
      "Warning: /home/rodrigo/processed-dataset/CQ500CT336/ has no usable modality\n"
     ]
    }
   ],
   "source": [
    "exam_dirs = get_exam_dirs(root_dir)\n",
    "# NONFUNCTION MoveFromUnknown\n",
    "exams_dictionary = gen_exams_dictionary(exam_dirs)\n",
    "best_scans_dict = check_best_scan(exams_dictionary)\n",
    "save_best_scans(root_dir, best_scans_dict)"
   ]
  },
  {
   "cell_type": "code",
   "execution_count": null,
   "metadata": {
    "slideshow": {
     "slide_type": "-"
    }
   },
   "outputs": [],
   "source": []
  },
  {
   "cell_type": "code",
   "execution_count": null,
   "metadata": {
    "slideshow": {
     "slide_type": "-"
    }
   },
   "outputs": [],
   "source": []
  },
  {
   "cell_type": "code",
   "execution_count": null,
   "metadata": {
    "slideshow": {
     "slide_type": "-"
    }
   },
   "outputs": [],
   "source": []
  },
  {
   "cell_type": "code",
   "execution_count": null,
   "metadata": {},
   "outputs": [],
   "source": []
  },
  {
   "cell_type": "code",
   "execution_count": null,
   "metadata": {},
   "outputs": [],
   "source": []
  },
  {
   "cell_type": "code",
   "execution_count": null,
   "metadata": {},
   "outputs": [],
   "source": []
  },
  {
   "cell_type": "code",
   "execution_count": null,
   "metadata": {},
   "outputs": [],
   "source": []
  },
  {
   "cell_type": "code",
   "execution_count": null,
   "metadata": {},
   "outputs": [],
   "source": []
  },
  {
   "cell_type": "code",
   "execution_count": null,
   "metadata": {},
   "outputs": [],
   "source": []
  },
  {
   "cell_type": "markdown",
   "metadata": {},
   "source": [
    "# Non-Function Code"
   ]
  },
  {
   "cell_type": "code",
   "execution_count": null,
   "metadata": {},
   "outputs": [],
   "source": [
    "# RenameDirs: used this to rename files from 'CQ500CTX CQ500CTX' to 'CQ500CTX'\n",
    "#   dir_name = dir_entry.name.split(\" \")[0]\n",
    "#   os.rename(root_dir + dir_entry.name, root_dir + dir_name)\n",
    "\n",
    "# MoveFromUnkown: \"exam/Unkown Study/*\" -> \"exam/*\" \n",
    "# for dir in dir_list:\n",
    "#     for subdir in os.listdir(dir):\n",
    "#         if subdir == \"Unknown Study\":\n",
    "#             for subsubdir in os.listdir(dir + subdir):\n",
    "#                 os.rename(dir + subdir + \"/\" + subsubdir, dir + subsubdir)\n",
    "#             os.rmdir(dir + subdir)"
   ]
  }
 ],
 "metadata": {
  "kernelspec": {
   "display_name": "Python 3",
   "language": "python",
   "name": "python3"
  },
  "language_info": {
   "codemirror_mode": {
    "name": "ipython",
    "version": 3
   },
   "file_extension": ".py",
   "mimetype": "text/x-python",
   "name": "python",
   "nbconvert_exporter": "python",
   "pygments_lexer": "ipython3",
   "version": "3.6.8"
  }
 },
 "nbformat": 4,
 "nbformat_minor": 2
}
