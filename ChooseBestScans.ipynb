{
 "cells": [
  {
   "cell_type": "markdown",
   "metadata": {},
   "source": [
    "#### This will be used to search extracted dicom dataset to write 3 files:  <br>\n",
    "1. csv with info for the best serie on each scan (name, pxspacing, thickness, n_slices)\n",
    "2. txt containing path for usable scans (serie with 5mm thickness)\n",
    "3. txt containing path for unusable scans (series != 5mm)"
   ]
  },
  {
   "cell_type": "markdown",
   "metadata": {},
   "source": [
    "# Import Required Libraries"
   ]
  },
  {
   "cell_type": "code",
   "execution_count": 1,
   "metadata": {},
   "outputs": [],
   "source": [
    "import os\n",
    "import re\n",
    "import csv\n",
    "import numpy as np\n",
    "import pydicom\n",
    "import shutil\n",
    "from glob import glob\n",
    "from pydicom.filereader import read_dicomdir"
   ]
  },
  {
   "cell_type": "markdown",
   "metadata": {},
   "source": [
    "# Create Serie Info Dictionary for each scan"
   ]
  },
  {
   "cell_type": "code",
   "execution_count": 2,
   "metadata": {},
   "outputs": [],
   "source": [
    "# ['root_dir/CQ500CTX/', 'root_dir/CQ500CTX/']\n",
    "def get_exam_dirs(root_dir):\n",
    "    subdirs = []\n",
    "    for dir_entry in os.scandir(root_dir):\n",
    "        if dir_entry.is_dir():\n",
    "            exam_dir = root_dir + dir_entry.name + \"/\"\n",
    "            # move series to exam_dir\n",
    "            move_series(exam_dir)\n",
    "            subdirs.append(exam_dir)\n",
    "    return subdirs\n",
    "\n",
    "def move_series(exam_dir):\n",
    "    subdir = glob(exam_dir + \"dicoms/CQ500*\")\n",
    "    if subdir != []:\n",
    "        unknown_dir = glob(subdir[0] + \"/Unknown*\")\n",
    "        if unknown_dir != []:\n",
    "            # list and then move series\n",
    "            series_list = glob(unknown_dir[0] + \"/*\")\n",
    "            for serie_dir in series_list:\n",
    "                shutil.move(new_serie_dir, exam_dir + \"dicoms/\")\n",
    "            # remove subdir\n",
    "            os.rmdir(unknown_dir[0])\n",
    "            os.rmdir(subdir[0])\n",
    "\n",
    "# this format will be: %{exam1: [mod1: [info], mod2: [info]], exam2: [mod3: [info], mod4: [info]]}\n",
    "def gen_exams_dictionary(exam_dirs):\n",
    "    exams_dict = dict()\n",
    "    for exam_dir in exam_dirs:\n",
    "        mods_dict = list()\n",
    "        dcm_dir = exam_dir + \"/dicoms/\"\n",
    "        for serie_dir in os.listdir(dcm_dir):\n",
    "            # rename dir replacing spaces with underline\n",
    "            new_serie_dir = serie_dir.replace(\" \", \"_\")\n",
    "            os.rename(dcm_dir + serie_dir, dcm_dir + new_serie_dir)\n",
    "            if not re.search(\"(POST|(?<!PRE_)CONTRAST|BONE)\", new_serie_dir):\n",
    "                # get instances info\n",
    "                dcm_files = glob(dcm_dir + new_serie_dir + \"/*.dcm\")                \n",
    "                dcm_data = pydicom.read_file(dcm_files[0])\n",
    "                info = [new_serie_dir, float(dcm_data.PixelSpacing[0]), float(dcm_data.PixelSpacing[1]), float(dcm_data.SliceThickness), len(dcm_files)]\n",
    "                mods_dict.append(info)\n",
    "        if mods_dict != []:\n",
    "            exams_dict[exam_dir] = mods_dict\n",
    "        else:\n",
    "            print(\"Warning: \" + exam_dir + \" has no usable serie\")\n",
    "    return exams_dict"
   ]
  },
  {
   "cell_type": "code",
   "execution_count": 3,
   "metadata": {},
   "outputs": [],
   "source": [
    "root_dir = '/home/rodrigo/Batch/'\n",
    "# root_dir = '/home/rodrigo/processed-dataset/'\n",
    "# exam_dirs = get_exam_dirs(root_dir)\n",
    "# exams_dictionary = gen_exams_dictionary(exam_dirs)\n",
    "# print(exams_dictionary)"
   ]
  },
  {
   "cell_type": "markdown",
   "metadata": {},
   "source": [
    "# Sort Dictionary to choose best scan\n",
    "1. sort by Thickness (ascending)\n",
    "2. if a 5mm exists, remove series with different thickness\n",
    "2.1 sort by 5mm with fewest slices\n",
    "3. if no 5mm, choose with fewest slices"
   ]
  },
  {
   "cell_type": "code",
   "execution_count": 4,
   "metadata": {
    "slideshow": {
     "slide_type": "-"
    }
   },
   "outputs": [],
   "source": [
    "# serie structure: ['serie', PxSpacing[0], PxSpacing[1], Thickness, n_slices]\n",
    "# dictionary structure:\n",
    "#   {'/home/rodrigo/Batch/CQ500CT0/': \n",
    "#    [['CT 4cc .', 0.443359,     0.443359,     0.625,     239], \n",
    "#    ['CT Plain', 0.451172,     0.451172,     5.0,       30],\n",
    "#    ['CT 4cc .', 0.443359,     0.443359,     5.0,     239]]\n",
    "# sort by 1) Thickness = 5, 2) Fewest Number of Slices\n",
    "\n",
    "def check_best_scan(exams_dictionary):\n",
    "    for exam_id in exams_dictionary:\n",
    "        scans_info = np.array(exams_dictionary[exam_id])\n",
    "        ind = scans_info[:,3].argsort()[::-1]\n",
    "        scans_info = scans_info[ind]\n",
    "        length = len(scans_info)\n",
    "        # find if there is more than one with 5mm, then sort by fewest slices\n",
    "        if scans_info[0][3] == '5.0':\n",
    "            for i in range(length):\n",
    "                if scans_info[-1][3] != '5.0':\n",
    "                    scans_info = scans_info[:-1, :]\n",
    "            scans_info = scans_info[scans_info[:,4].argsort()]\n",
    "            exams_dictionary[exam_id] = list(scans_info[0])\n",
    "        else: #get serie with fewest slices\n",
    "            scans_info = scans_info[scans_info[:,4].argsort()]\n",
    "            exams_dictionary[exam_id] = list(scans_info[0])\n",
    "    return exams_dictionary\n",
    "\n",
    "def save_best_scans(root_dir, best_scans_dict):\n",
    "    sorted_dict = dict(sorted(best_scans_dict.items()))\n",
    "    w = csv.writer(open(root_dir + 'ScansInfo.csv', 'w'))\n",
    "    y = open(root_dir + 'GoodDirs.txt','w')\n",
    "    z = open(root_dir + 'ToReslice.txt', 'w')\n",
    "    for key, val in sorted_dict.items():\n",
    "        w.writerow([key, val])\n",
    "        if val[3] == '5.0':\n",
    "            y.write(key + \"dicoms/\" + val[0] + \"\\n\")\n",
    "        else:\n",
    "            z.write(key + \"dicoms/\" + val[0] + \"\\n\")"
   ]
  },
  {
   "cell_type": "code",
   "execution_count": 5,
   "metadata": {
    "slideshow": {
     "slide_type": "-"
    }
   },
   "outputs": [],
   "source": [
    "exam_dirs = get_exam_dirs(root_dir)\n",
    "exams_dictionary = gen_exams_dictionary(exam_dirs)\n",
    "best_scans_dict = check_best_scan(exams_dictionary)\n",
    "save_best_scans(root_dir, best_scans_dict)"
   ]
  }
 ],
 "metadata": {
  "kernelspec": {
   "display_name": "Python 3",
   "language": "python",
   "name": "python3"
  },
  "language_info": {
   "codemirror_mode": {
    "name": "ipython",
    "version": 3
   },
   "file_extension": ".py",
   "mimetype": "text/x-python",
   "name": "python",
   "nbconvert_exporter": "python",
   "pygments_lexer": "ipython3",
   "version": "3.6.8"
  }
 },
 "nbformat": 4,
 "nbformat_minor": 2
}
