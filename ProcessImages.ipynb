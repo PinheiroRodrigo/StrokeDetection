{
 "cells": [
  {
   "cell_type": "markdown",
   "metadata": {},
   "source": [
    "# Import Required Libraries"
   ]
  },
  {
   "cell_type": "code",
   "execution_count": 1,
   "metadata": {},
   "outputs": [],
   "source": [
    "import os\n",
    "import cv2\n",
    "import gdcm\n",
    "import numpy as np\n",
    "from matplotlib import pyplot, image\n",
    "import matplotlib as mpl\n",
    "from scipy import ndimage\n",
    "from glob import glob\n",
    "pyplot.style.use('dark_background')"
   ]
  },
  {
   "cell_type": "markdown",
   "metadata": {},
   "source": [
    "# Read and Plot Functions "
   ]
  },
  {
   "cell_type": "code",
   "execution_count": 2,
   "metadata": {},
   "outputs": [],
   "source": [
    "def read_image(filepath):\n",
    "    # Read grayscale DICOM image\n",
    "    image = cv2.imread(filepath)\n",
    "    return image\n",
    "\n",
    "def generate_histogram(image):\n",
    "    # Calculate Histogram\n",
    "    histogram = cv2.calcHist([image], [0], None, [256], [0, 256])\n",
    "    return histogram\n",
    "\n",
    "def save_processed_image(img, directory, filename):\n",
    "    processed_filepath = directory + 'p-' + filename\n",
    "    cv2.imwrite(processed_filepath, img)\n",
    "\n",
    "def save_histogram(histogram, h_directory, filename):\n",
    "    pyplot.figure(figsize=(2,2))\n",
    "    pyplot.xlim([0, 250])\n",
    "    pyplot.ylim([0, 400])\n",
    "    pyplot.axis('off')\n",
    "    pyplot.plot(histogram)\n",
    "    pyplot.savefig(h_directory + \"h-\" + filename, bbox_inches=0)\n",
    "    pyplot.close()"
   ]
  },
  {
   "cell_type": "code",
   "execution_count": 3,
   "metadata": {},
   "outputs": [],
   "source": [
    "def plot_image(image):\n",
    "    imgplot = pyplot.imshow(image, cmap=pyplot.cm.bone)\n",
    "    \n",
    "def plot_histogram(histogram):\n",
    "    # configure and draw the histogram figure\n",
    "    pyplot.figure()\n",
    "    pyplot.title(\"CT-Scan Histogram\")\n",
    "    pyplot.xlabel(\"grayscale value\")\n",
    "    pyplot.ylabel(\"pixels\")\n",
    "    pyplot.xlim([0, 256])\n",
    "    # TODO: qual será o limite de y?\n",
    "    pyplot.ylim([0, 400])\n",
    "    pyplot.plot(histogram)\n",
    "    pyplot.show()"
   ]
  },
  {
   "cell_type": "markdown",
   "metadata": {},
   "source": [
    "# Image Processing Functions "
   ]
  },
  {
   "cell_type": "code",
   "execution_count": 4,
   "metadata": {},
   "outputs": [],
   "source": [
    "# Remove skull/ventricle pixels (TODO: Optimize this)\n",
    "def remove_skull_and_ventricles(img):\n",
    "    img[np.where((img >= [250,250,250]).all(axis = 2))] = [0,0,0]\n",
    "    img[np.where((img <= [100,100,100]).all(axis = 2))] = [0,0,0]\n",
    "    return img\n",
    "\n",
    "def median_filter(img):\n",
    "    img = ndimage.median_filter(img, 9)\n",
    "    return img\n",
    "\n",
    "# Returns image biggest_contour and mask\n",
    "def find_biggest_contour(img):\n",
    "    contours, hierarchy = cv2.findContours(img, cv2.RETR_TREE, cv2.CHAIN_APPROX_SIMPLE)\n",
    "    # Isolate largest contour\n",
    "    contour_sizes = [(cv2.contourArea(contour), contour) for contour in contours]\n",
    "    if contour_sizes == []: \n",
    "        biggest_contour = np.array([[0, 0]])\n",
    "    else:\n",
    "        biggest_contour = max(contour_sizes, key=lambda x: x[0])[1]\n",
    "    mask = np.zeros(img.shape, np.uint8)\n",
    "    cv2.drawContours(mask, [biggest_contour], -1, 255, -1)\n",
    "    return biggest_contour, mask \n",
    "\n",
    "# Remove soft tissues using biggest contour\n",
    "def remove_soft_tissues(img):\n",
    "    imgray = cv2.cvtColor(img, cv2.COLOR_BGR2GRAY)\n",
    "    ret, thresh = cv2.threshold(imgray, 100, 250, 0)\n",
    "    biggest_contour, mask = find_biggest_contour(thresh)\n",
    "    biggest_contour_image = np.bitwise_and(imgray, mask, mask)\n",
    "    return biggest_contour_image, imgray\n",
    "\n",
    "# use threshold to isolate likely areas of bleeding\n",
    "def isolate_hemorrhages(img, imgray):\n",
    "    # TODO: maybe get a average value for normal cerebral mass pixel color to use on threshold lower limit\n",
    "    # Global Threshold\n",
    "    ret2, thresh = cv2.threshold(img, 140, 250, cv2.THRESH_BINARY)\n",
    "    final_image = np.bitwise_and(imgray, thresh, thresh)\n",
    "    return final_image\n",
    "    \n",
    "def process_file(filename, directory):\n",
    "    img = read_image(directory + \"/\" + filename)\n",
    "    img_no_skull = remove_skull_and_ventricles(img)\n",
    "    img_median_filter = median_filter(img_no_skull)\n",
    "    img_no_soft_tissues, imgray = remove_soft_tissues(img_median_filter)\n",
    "    final_img = isolate_hemorrhages(img_no_soft_tissues, imgray)\n",
    "    return final_img\n",
    "\n",
    "def process_exam(filelist, i_dir):\n",
    "    # i_dir = /home/dataset/1/pngs\n",
    "    exam_dir = os.path.normpath(i_dir + os.sep + os.pardir)\n",
    "    p_dir = exam_dir + \"/processed/\"\n",
    "    h_dir = exam_dir + \"/histograms/\"\n",
    "    os.makedirs(p_dir, exist_ok=True)  \n",
    "    os.makedirs(h_dir, exist_ok=True)\n",
    "    for filename in filelist:\n",
    "        if \".png\" in filename:\n",
    "            processed = process_file(filename, i_dir)\n",
    "            save_histogram(generate_histogram(processed), h_dir, filename)\n",
    "            save_processed_image(processed, p_dir, filename)"
   ]
  },
  {
   "cell_type": "markdown",
   "metadata": {},
   "source": [
    "# Process Images & Save Files"
   ]
  },
  {
   "cell_type": "code",
   "execution_count": 6,
   "metadata": {},
   "outputs": [
    {
     "name": "stdout",
     "output_type": "stream",
     "text": [
      "processing exam 89\n",
      "1/10\n",
      "processing exam 490\n",
      "2/10\n",
      "processing exam 102\n",
      "3/10\n",
      "processing exam 159\n",
      "4/10\n",
      "processing exam 109\n",
      "5/10\n",
      "processing exam 243\n",
      "6/10\n",
      "processing exam 303\n",
      "7/10\n",
      "processing exam 320\n",
      "8/10\n",
      "processing exam 0\n",
      "9/10\n",
      "processing exam 486\n",
      "10/10\n"
     ]
    }
   ],
   "source": [
    "dataset_dir = \"/home/rodrigo/Batch/\"\n",
    "dir_list = glob(dataset_dir + \"[0-9]*\")\n",
    "total = len(dir_list)\n",
    "complete = 1\n",
    "\n",
    "for exam_dir in dir_list:\n",
    "    print(\"processing exam \" + os.path.basename(exam_dir))\n",
    "    image_dir = exam_dir + \"/pngs\"\n",
    "    filelist = os.listdir(image_dir)\n",
    "    process_exam(filelist, image_dir)\n",
    "    print(str(complete) + \"/\" + str(total))\n",
    "    complete += 1"
   ]
  },
  {
   "cell_type": "code",
   "execution_count": null,
   "metadata": {},
   "outputs": [],
   "source": []
  },
  {
   "cell_type": "code",
   "execution_count": null,
   "metadata": {},
   "outputs": [],
   "source": []
  }
 ],
 "metadata": {
  "kernelspec": {
   "display_name": "Python 3",
   "language": "python",
   "name": "python3"
  },
  "language_info": {
   "codemirror_mode": {
    "name": "ipython",
    "version": 3
   },
   "file_extension": ".py",
   "mimetype": "text/x-python",
   "name": "python",
   "nbconvert_exporter": "python",
   "pygments_lexer": "ipython3",
   "version": "3.6.8"
  }
 },
 "nbformat": 4,
 "nbformat_minor": 2
}
