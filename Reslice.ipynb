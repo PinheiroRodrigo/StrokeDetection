{
 "cells": [
  {
   "cell_type": "code",
   "execution_count": 1,
   "metadata": {},
   "outputs": [
    {
     "name": "stderr",
     "output_type": "stream",
     "text": [
      "/home/rodrigo/miniconda3/envs/pydicomenv/lib/python3.6/site-packages/dicom/__init__.py:53: UserWarning: \n",
      "This code is using an older version of pydicom, which is no longer \n",
      "maintained as of Jan 2017.  You can access the new pydicom features and API \n",
      "by installing `pydicom` from PyPI.\n",
      "See 'Transitioning to pydicom 1.x' section at pydicom.readthedocs.org \n",
      "for more information.\n",
      "\n",
      "  warnings.warn(msg)\n"
     ]
    }
   ],
   "source": [
    "import os\n",
    "from glob import glob\n",
    "import subprocess\n",
    "import nibabel as nib\n",
    "from dipy.align.reslice import reslice\n",
    "\n",
    "# dcm2niix -z y -m y -o ~/Batch/niftix '/home/rodrigo/Batch/CQ500CT99/CT PRE CONTRAST 5MM STD'\n",
    "# med2image -i /home/rodrigo/Batch/niftix/test99-5mm.nii.gz -d /home/rodrigo/Batch/niftix/ -o image.png -s -1\n",
    "\n",
    "# src = '/home/rodrigo/Batch/CQ500CT99/CT PRE CONTRAST 5MM STD'\n",
    "# out = '/home/rodrigo/Batch/nifti8/99-ct-pre-contrast-5mm-std.nii.gz'\n",
    "# dicom2nifti.dicom_series_to_nifti(src, out, reorient_nifti=True)"
   ]
  },
  {
   "cell_type": "code",
   "execution_count": 23,
   "metadata": {},
   "outputs": [],
   "source": [
    "# Create 3 functions:\n",
    "# 1) Convert dicom chosen serie to Nifti\n",
    "# 2) Reslice Nifti to 5mm\n",
    "# 3) Generate Pngs from a Nifti Volume\n",
    "filepath = '/home/rodrigo/Batch/ToReslice.txt'"
   ]
  },
  {
   "cell_type": "code",
   "execution_count": 24,
   "metadata": {},
   "outputs": [],
   "source": [
    "# TODO: move this to nonfunction\n",
    "def dicoms_to_raw(path):\n",
    "    cmd = \"ok\"\n",
    "    for dcm in glob(path.strip('\\n') + '/*.dcm'):\n",
    "        cmd = \"gdcmconv --raw '\" + dcm + \"' '\" + dcm + \"'\"\n",
    "        result = subprocess.call(cmd, shell=True)\n",
    "    print(cmd)\n",
    "\n",
    "def convert_series_to_nifti(filepath):\n",
    "    # serie: /home/rodrigo/Batch/CQ500CT100/serie_name\n",
    "    for serie in open(filepath, 'r').readlines():\n",
    "        print(serie)\n",
    "        # TODO: move this to nonfunction\n",
    "        dicoms_to_raw(serie)\n",
    "        # nii_name: CQ500CT100-serie_name\n",
    "        nii_name = serie.split('/')[-2] + '_%p'\n",
    "        print(nii_name)\n",
    "        # nii_dir: /home/rodrigo/Batch/nifti/\n",
    "        nii_dir = os.path.dirname(filepath) + '/nifti/' \n",
    "        os.makedirs(nii_dir, exist_ok=True)\n",
    "        serie = serie.strip('\\n')\n",
    "        cmd = \"dcm2niix -z y -m y -f \" + nii_name + \" -o \" + nii_dir + \" '\" + serie + \"'\"\n",
    "        print(cmd)\n",
    "        result = subprocess.call(cmd, shell=True)\n",
    "        print(nii_name + \" result: \" + str(result))\n",
    "    return nii_dir\n",
    "        \n",
    "def reslice_nifti(nii_dir):\n",
    "    for nii in os.listdir(nii_dir):\n",
    "        fimg = nii_dir + nii\n",
    "        print(\"fimg\")\n",
    "        print(fimg)\n",
    "        img = nib.load(fimg)\n",
    "        data = img.get_data()\n",
    "        # Reslice\n",
    "        new_zooms = (1., 1., 5.)\n",
    "        affine = img.affine\n",
    "        zooms = img.header.get_zooms()[:3]\n",
    "        data2, affine2 = reslice(data, affine, zooms, new_zooms)  \n",
    "        # Save File\n",
    "        img2 = nib.Nifti1Image(data2, affine2)\n",
    "        new_name = fimg.strip('.nii.gz') + '_5mm.nii.gz'\n",
    "        nib.save(img2, new_name)\n",
    "\n",
    "def generate_pngs(nii_dir):\n",
    "    for nii in glob(nii_dir + \"/*_5mm.nii.gz\"):\n",
    "        exam = nii.split(\"/\")[5].split(\"_\")[0]\n",
    "        png_dir = nii_dir + exam\n",
    "        os.makedirs(png_dir, exist_ok=True)\n",
    "        cmd = 'med2image -i ' + nii + ' -d ' + png_dir + ' -o ' + exam + '.png -s -1'\n",
    "        subprocess.call(cmd, shell=True)\n",
    "\n",
    "            \n",
    "    \n"
   ]
  },
  {
   "cell_type": "code",
   "execution_count": 25,
   "metadata": {},
   "outputs": [
    {
     "name": "stdout",
     "output_type": "stream",
     "text": [
      "/home/rodrigo/Batch/CQ500CT0/CT PLAIN THIN\n",
      "\n",
      "gdcmconv --raw '/home/rodrigo/Batch/CQ500CT0/CT PLAIN THIN/CT000191.dcm' '/home/rodrigo/Batch/CQ500CT0/CT PLAIN THIN/CT000191.dcm'\n",
      "CQ500CT0_%p\n",
      "dcm2niix -z y -m y -f CQ500CT0_%p -o /home/rodrigo/Batch/nifti/ '/home/rodrigo/Batch/CQ500CT0/CT PLAIN THIN'\n",
      "CQ500CT0_%p result: 0\n",
      "/home/rodrigo/Batch/CQ500CT99/CT PRE CONTRAST 5MM STD\n",
      "\n",
      "gdcmconv --raw '/home/rodrigo/Batch/CQ500CT99/CT PRE CONTRAST 5MM STD/CT000018.dcm' '/home/rodrigo/Batch/CQ500CT99/CT PRE CONTRAST 5MM STD/CT000018.dcm'\n",
      "CQ500CT99_%p\n",
      "dcm2niix -z y -m y -f CQ500CT99_%p -o /home/rodrigo/Batch/nifti/ '/home/rodrigo/Batch/CQ500CT99/CT PRE CONTRAST 5MM STD'\n",
      "CQ500CT99_%p result: 0\n",
      "/home/rodrigo/Batch/CQ500CT0/CT PLAIN\n",
      "\n",
      "ok\n",
      "CQ500CT0_%p\n",
      "dcm2niix -z y -m y -f CQ500CT0_%p -o /home/rodrigo/Batch/nifti/ '/home/rodrigo/Batch/CQ500CT0/CT PLAIN'\n",
      "CQ500CT0_%p result: 1\n",
      "fimg\n",
      "/home/rodrigo/Batch/nifti/CQ500CT0_PLAIN_THIN_Tilt_1.nii.gz\n",
      "fimg\n",
      "/home/rodrigo/Batch/nifti/CQ500CT99_PRE_CONTRAST_5MM_STD.nii.gz\n",
      "fimg\n",
      "/home/rodrigo/Batch/nifti/CQ500CT0_PLAIN_THIN.nii.gz\n"
     ]
    }
   ],
   "source": [
    "nii_dir = convert_series_to_nifti(filepath)\n",
    "reslice_nifti(nii_dir)\n",
    "generate_pngs(nii_dir)"
   ]
  },
  {
   "cell_type": "code",
   "execution_count": null,
   "metadata": {},
   "outputs": [],
   "source": []
  }
 ],
 "metadata": {
  "kernelspec": {
   "display_name": "Python 3",
   "language": "python",
   "name": "python3"
  },
  "language_info": {
   "codemirror_mode": {
    "name": "ipython",
    "version": 3
   },
   "file_extension": ".py",
   "mimetype": "text/x-python",
   "name": "python",
   "nbconvert_exporter": "python",
   "pygments_lexer": "ipython3",
   "version": "3.6.8"
  }
 },
 "nbformat": 4,
 "nbformat_minor": 2
}
