{
 "cells": [
  {
   "cell_type": "markdown",
   "metadata": {},
   "source": [
    "#### This will be used to extract, structure folders and generate pngs for dicoms in dataset CQ500"
   ]
  },
  {
   "cell_type": "markdown",
   "metadata": {},
   "source": [
    "# Import Required Libraries"
   ]
  },
  {
   "cell_type": "code",
   "execution_count": 1,
   "metadata": {},
   "outputs": [],
   "source": [
    "import os\n",
    "import re\n",
    "import gdcm\n",
    "import zipfile\n",
    "import operator\n",
    "from glob import glob\n",
    "from shutil import rmtree\n",
    "from pathlib import Path\n",
    "import subprocess"
   ]
  },
  {
   "cell_type": "markdown",
   "metadata": {},
   "source": [
    "# Extract and Move Dicom files\n",
    "### TODO: Use 'GoodDirs.txt' to move only chosen serie for each exam"
   ]
  },
  {
   "cell_type": "code",
   "execution_count": 2,
   "metadata": {},
   "outputs": [],
   "source": [
    "def create_folder_structure(dataset_dir, exam_number):\n",
    "    exam_dir = dataset_dir + exam_number\n",
    "    dcm_dir = exam_dir + \"/dicoms/\"; png_dir = exam_dir + \"/pngs/\"\n",
    "    proc_dir = exam_dir + \"/processed/\"; hist_dir = exam_dir + \"/histograms/\"\n",
    "    os.makedirs(dcm_dir, exist_ok=True); os.makedirs(png_dir, exist_ok=True);\n",
    "    os.makedirs(proc_dir, exist_ok=True); os.makedirs(hist_dir, exist_ok=True)\n",
    "    return dcm_dir\n",
    "\n",
    "def extract_dicom_zips(zip_list):\n",
    "    count = 0\n",
    "    for zip_path in zip_list:\n",
    "        exam_number = re.findall(r'\\d+', zip_path)[-1]\n",
    "        dcm_dir = create_folder_structure(dataset_dir, exam_number)\n",
    "        with zipfile.ZipFile(zip_path, \"r\") as zip_ref:\n",
    "            zip_ref.extractall(dcm_dir)\n",
    "            count += 1\n",
    "            print(str(count) + \"/\" + str(len(zip_list)))\n",
    "        \n",
    "# dataset_dir = \"/home/rodrigo/Batch/\"\n",
    "# zip_list = glob(dataset_dir + \"*.zip\")\n",
    "# extract_dicom_zips(zip_list)"
   ]
  },
  {
   "cell_type": "markdown",
   "metadata": {},
   "source": [
    "# Order and Rename Serie by Z coordinate"
   ]
  },
  {
   "cell_type": "code",
   "execution_count": 5,
   "metadata": {},
   "outputs": [
    {
     "name": "stdout",
     "output_type": "stream",
     "text": [
      "/home/rodrigo/Batch/0/dicoms/CT_Plain\n",
      "/home/rodrigo/Batch/102/dicoms/CT_Plain\n",
      "/home/rodrigo/Batch/109/dicoms/CT_5mm\n",
      "/home/rodrigo/Batch/159/dicoms/CT_5mm-2\n",
      "/home/rodrigo/Batch/243/dicoms/CT_Plain\n",
      "/home/rodrigo/Batch/303/dicoms/CT_PRE_CONTRAST_5MM_STD\n",
      "/home/rodrigo/Batch/320/dicoms/CT_55mm_Plain\n",
      "/home/rodrigo/Batch/486/dicoms/CT_Plain\n",
      "/home/rodrigo/Batch/490/dicoms/CT_Plain\n",
      "/home/rodrigo/Batch/89/dicoms/CT_PRE_CONTRAST_5MM_STD\n"
     ]
    }
   ],
   "source": [
    "def order_all_series(scans_file):\n",
    "    f = open(scans_file, \"r\")\n",
    "    for serie_path in f.readlines():\n",
    "        serie_path = serie_path.strip(\"\\n\")\n",
    "        sorted_serie = order_serie(serie_path)\n",
    "        rename_serie_instances(serie_path, sorted_serie)\n",
    "        \n",
    "def order_serie(serie_dir):\n",
    "    dcm_z = {}\n",
    "    print(serie_dir)\n",
    "    for dcm in glob(serie_dir + \"/*.dcm\"):\n",
    "        result = os.popen(\"gdcminfo \" + dcm).read().splitlines()[-5]\n",
    "        Z = result.split(\",\")[-1].strip(\")\")\n",
    "        dcm_z[os.path.basename(dcm)] = float(Z)\n",
    "    sorted_by_z = sorted(dcm_z.items(), key=operator.itemgetter(1))\n",
    "    return sorted_by_z\n",
    "\n",
    "def rename_serie_instances(serie_path, sorted_by_z):    \n",
    "    count = 0\n",
    "    for dcm in sorted_by_z:\n",
    "        os.rename(serie_path + \"/\" + dcm[0], serie_path + \"/CT\" + str(count) + \".dcm\")\n",
    "        count = count + 1\n",
    "             \n",
    "# root_dir = '/home/rodrigo/Batch/'\n",
    "# good_scans = root_dir + 'GoodDirs.txt'\n",
    "# order_all_series(good_scans)"
   ]
  },
  {
   "cell_type": "markdown",
   "metadata": {},
   "source": [
    "# Convert Dicom to PNG (decompress if necessary)\n",
    "#### its important to order the slices first"
   ]
  },
  {
   "cell_type": "code",
   "execution_count": 23,
   "metadata": {},
   "outputs": [
    {
     "name": "stdout",
     "output_type": "stream",
     "text": [
      "/home/rodrigo/Batch/0/dicoms/CT_Plain\n",
      "0/10\n",
      "/home/rodrigo/Batch/102/dicoms/CT_Plain\n",
      "1/10\n",
      "/home/rodrigo/Batch/109/dicoms/CT_5mm\n",
      "2/10\n",
      "/home/rodrigo/Batch/159/dicoms/CT_5mm-2\n",
      "3/10\n",
      "/home/rodrigo/Batch/243/dicoms/CT_Plain\n",
      "4/10\n",
      "/home/rodrigo/Batch/303/dicoms/CT_PRE_CONTRAST_5MM_STD\n",
      "5/10\n",
      "/home/rodrigo/Batch/320/dicoms/CT_55mm_Plain\n",
      "6/10\n",
      "/home/rodrigo/Batch/486/dicoms/CT_Plain\n",
      "7/10\n",
      "/home/rodrigo/Batch/490/dicoms/CT_Plain\n",
      "8/10\n",
      "/home/rodrigo/Batch/89/dicoms/CT_PRE_CONTRAST_5MM_STD\n",
      "9/10\n"
     ]
    }
   ],
   "source": [
    "# convert compressed dicom to raw format\n",
    "def convert_to_raw(src, dst):\n",
    "    subprocess.run([\"gdcmconv\", \"--raw\", src, dst])\n",
    "# convert dicom to png\n",
    "def dcm_to_png(src, dst):\n",
    "    subprocess.run([\"dcm2pnm\", \"+on\", \"+Sxv\", \"224\", \"+Wi\", \"1\", src, dst])\n",
    "    \n",
    "def generate_pngs(serie_path):\n",
    "    # /home/rodrigo/Batch/0/dicoms/serie_name\n",
    "    exam_dir = os.path.dirname(os.path.dirname(serie_path))\n",
    "    for dcm_path in glob(serie_path + \"/*.dcm\"):\n",
    "        compression = os.popen(\"gdcminfo \" + dcm_path).read().splitlines()[1]\n",
    "        png_name = Path(dcm_path).stem + \".png\"\n",
    "        if \"JPEG\" in compression:\n",
    "            raw_path = exam_dir + \"/pngs/\" + os.path.basename(dcm_path)\n",
    "            convert_to_raw(dcm_path, raw_path)\n",
    "            dcm_to_png(raw_path, exam_dir + \"/pngs/\" + png_name)\n",
    "            os.remove(raw_path)\n",
    "        else:\n",
    "            dcm_to_png(dcm_path, exam_dir + \"/pngs/\" + png_name)\n",
    "\n",
    "def gen_all_pngs(root_dir):\n",
    "    f = open(root_dir + \"GoodDirs.txt\", \"r\")\n",
    "    scans = f.readlines()\n",
    "    n_scans = len(scans)\n",
    "    x = 0\n",
    "    for serie_path in scans:\n",
    "        serie_path = serie_path.strip(\"\\n\")\n",
    "        if os.path.isdir(serie_path):\n",
    "            print(serie_path)\n",
    "            generate_pngs(serie_path)\n",
    "            print(str(x) + \"/\" + str(n_scans))\n",
    "            x += 1\n",
    "        \n",
    "root_dir = '/home/rodrigo/Batch/'\n",
    "gen_all_pngs(root_dir)"
   ]
  },
  {
   "cell_type": "markdown",
   "metadata": {},
   "source": [
    "#### not used anymore"
   ]
  },
  {
   "cell_type": "code",
   "execution_count": null,
   "metadata": {},
   "outputs": [],
   "source": [
    "# def move_dicoms_recursively(exam_dir):\n",
    "#     dicoms = glob(exam_dir + \"/dicoms/**/*.dcm\", recursive=True)\n",
    "#     count2 = 0\n",
    "#     dir = exam_dir + \"/dicoms/\"\n",
    "#     try:\n",
    "#         subdir = [dI for dI in os.listdir(dir) if os.path.isdir(os.path.join(dir,dI))][0]\n",
    "#         for filepath in dicoms:\n",
    "#             dicom_name = os.path.basename(exam_dir) + \"-\" + str(count2) + \".dcm\" \n",
    "#             os.rename(filepath, dir + dicom_name)\n",
    "#             count2 = count2 + 1\n",
    "#         print(str(count2) + \"/\" + str(len(dicoms)))\n",
    "#         rmtree(dir + subdir)\n",
    "#     except IndexError:\n",
    "#         print(\"No dicoms to move.\")\n",
    "\n",
    "# def move_all_dicoms(dir_list):\n",
    "#     x = 0\n",
    "#     for exam_dir in dir_list:\n",
    "#         move_dicoms_recursively(exam_dir)\n",
    "#         print(str(x) + \"/\" + str(len(dir_list)))\n",
    "#         x = x + 1\n",
    "# dir_list = \n",
    "# move_all_dicoms(dir_list)"
   ]
  }
 ],
 "metadata": {
  "kernelspec": {
   "display_name": "Python 3",
   "language": "python",
   "name": "python3"
  },
  "language_info": {
   "codemirror_mode": {
    "name": "ipython",
    "version": 3
   },
   "file_extension": ".py",
   "mimetype": "text/x-python",
   "name": "python",
   "nbconvert_exporter": "python",
   "pygments_lexer": "ipython3",
   "version": "3.6.8"
  }
 },
 "nbformat": 4,
 "nbformat_minor": 2
}
