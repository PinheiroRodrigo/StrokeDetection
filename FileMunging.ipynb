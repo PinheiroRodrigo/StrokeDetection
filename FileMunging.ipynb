{
 "cells": [
  {
   "cell_type": "code",
   "execution_count": 28,
   "metadata": {},
   "outputs": [],
   "source": [
    "import os\n",
    "import re\n",
    "import numpy as np\n",
    "import pydicom\n",
    "from glob import glob\n",
    "from pydicom.filereader import read_dicomdir"
   ]
  },
  {
   "cell_type": "code",
   "execution_count": null,
   "metadata": {},
   "outputs": [],
   "source": []
  },
  {
   "cell_type": "code",
   "execution_count": 40,
   "metadata": {},
   "outputs": [],
   "source": [
    "root_dir = '/home/rodrigo/Batch/'\n",
    "# root_dir = '/home/rodrigo/processed-dataset/'\n",
    "\n",
    "# ['root_dir/CQ500CTX/', 'root_dir/CQ500CTX/']\n",
    "def get_exam_dirs(root_dir):\n",
    "    subdirs = []\n",
    "    for dir_entry in os.scandir(root_dir):\n",
    "        if dir_entry.is_dir() and dir_entry.name.startswith(\"CQ500\"):\n",
    "            # NONFUNCTION RenameDirs\n",
    "            subdirs.append(root_dir + dir_entry.name + \"/\")\n",
    "    return subdirs\n",
    "\n",
    "def gen_exams_dictionary(exam_dirs):\n",
    "    # this format will be: %{exam1: %{mod1: [info], mod2: [info]}, exam2: %{mod3: [info], mod4: [info]}}\n",
    "    exams_dict = dict()\n",
    "    for exam_dir in exam_dirs:\n",
    "        mods_dict = list()\n",
    "        for modality in os.listdir(exam_dir):\n",
    "            if not re.search(\"(POST|(?<!PRE )CONTRAST|BONE)\", modality):\n",
    "                dcm_files = glob(exam_dir + modality + \"/*.dcm\")\n",
    "                dcm_data = pydicom.read_file(dcm_files[0])\n",
    "                info = [modality, float(dcm_data.PixelSpacing[0]), float(dcm_data.PixelSpacing[1]), float(dcm_data.SliceThickness), len(dcm_files)]\n",
    "                mods_dict.append(info)\n",
    "        exams_dict[exam_dir] = mods_dict\n",
    "    return exams_dict"
   ]
  },
  {
   "cell_type": "code",
   "execution_count": 127,
   "metadata": {
    "slideshow": {
     "slide_type": "-"
    }
   },
   "outputs": [],
   "source": [
    "# {'/home/rodrigo/Batch/CQ500CT0/': \n",
    "# ['modality', PxSpacing[0], PxSpacing[1], Thickness, n_slices]   \n",
    "#[['CT 4cc .', 0.443359,     0.443359,     0.625,     239], \n",
    "# ['CT Plain', 0.451172,     0.451172,     5.0,       30],\n",
    "# ['CT 4cc .', 0.443359,     0.443359,     5.0,     239]]\n",
    "# sort by 1) Thickness = 5, 2) Fewest Number of Slices\n",
    "\n",
    "def check_best_scan(exams_dictionary):\n",
    "    for exam_id in exams_dictionary:\n",
    "        scans_info = np.array(exams_dictionary[exam_id])\n",
    "        ind = scans_info[:,3].argsort()[::-1]\n",
    "        scans_info = scans_info[ind]\n",
    "        length = len(scans_info)\n",
    "        if scans_info[0][3] == '5.0':\n",
    "            for i in range(length):\n",
    "                if scans_info[-1][3] != '5.0':\n",
    "                    scans_info = scans_info[:-1, :]\n",
    "            scans_info = scans_info[scans_info[:,1].argsort()]\n",
    "            exams_dictionary[exam_id] = list(scans_info[0])\n",
    "        else:\n",
    "            scans_info = scans_info[scans_info[:,1].argsort()]\n",
    "            exams_dictionary[exam_id] = list(scans_info[0])\n",
    "    return exams_dictionary\n"
   ]
  },
  {
   "cell_type": "code",
   "execution_count": 128,
   "metadata": {
    "slideshow": {
     "slide_type": "-"
    }
   },
   "outputs": [
    {
     "name": "stdout",
     "output_type": "stream",
     "text": [
      "{'/home/rodrigo/Batch/CQ500CT0/': ['CT Plain', '0.451172', '0.451172', '5.0', '30'], '/home/rodrigo/Batch/CQ500CT99/': ['CT PRE CONTRAST 5MM STD', '0.513672', '0.513672', '5.0', '31']}\n"
     ]
    }
   ],
   "source": [
    "exam_dirs = get_exam_dirs(root_dir)\n",
    "len(exam_dirs)\n",
    "# NONFUNCTION MoveFromUnknown\n",
    "exams_dictionary = gen_exams_dictionary(exam_dirs)\n",
    "best_scan = check_best_scan(exams_dictionary)\n",
    "print(best_scan)"
   ]
  },
  {
   "cell_type": "code",
   "execution_count": null,
   "metadata": {
    "slideshow": {
     "slide_type": "-"
    }
   },
   "outputs": [],
   "source": []
  },
  {
   "cell_type": "code",
   "execution_count": null,
   "metadata": {
    "slideshow": {
     "slide_type": "-"
    }
   },
   "outputs": [],
   "source": []
  },
  {
   "cell_type": "code",
   "execution_count": null,
   "metadata": {
    "slideshow": {
     "slide_type": "-"
    }
   },
   "outputs": [],
   "source": []
  },
  {
   "cell_type": "code",
   "execution_count": 43,
   "metadata": {},
   "outputs": [
    {
     "name": "stdout",
     "output_type": "stream",
     "text": [
      "{'/home/rodrigo/Batch/CQ500CT0/': [['CT 4cc sec 150cc D3D on', 0.443359, 0.443359, 0.625, 239], ['CT Plain', 0.451172, 0.451172, 5.0, 30], ['CT PLAIN THIN', 0.451172, 0.451172, 0.625, 240], ['CT 4cc sec 150cc D3D on-3', 0.443359, 0.443359, 0.625, 239], ['CT 4cc sec 150cc D3D on-2', 0.443359, 0.443359, 0.625, 239]], '/home/rodrigo/Batch/CQ500CT99/': [['CT PRE CONTRAST 5MM STD', 0.513672, 0.513672, 5.0, 31], ['CT PRE CONTRAST THIN', 0.513672, 0.513672, 0.625, 246]]}\n",
      "/home/rodrigo/Batch/CQ500CT0/\n",
      "/home/rodrigo/Batch/CQ500CT99/\n"
     ]
    }
   ],
   "source": []
  },
  {
   "cell_type": "code",
   "execution_count": null,
   "metadata": {},
   "outputs": [],
   "source": []
  },
  {
   "cell_type": "code",
   "execution_count": null,
   "metadata": {},
   "outputs": [],
   "source": []
  },
  {
   "cell_type": "code",
   "execution_count": null,
   "metadata": {},
   "outputs": [],
   "source": []
  },
  {
   "cell_type": "code",
   "execution_count": null,
   "metadata": {},
   "outputs": [],
   "source": []
  },
  {
   "cell_type": "code",
   "execution_count": 12,
   "metadata": {},
   "outputs": [
    {
     "name": "stdout",
     "output_type": "stream",
     "text": [
      "[['CT 5mm' '0.5625' '0.5625' '5.0' '36']]\n",
      "[['CT Plain' '0.478516' '0.478516' '5.0' '32']]\n",
      "[['CT Plain' '0.451172' '0.451172' '5.0' '30']]\n",
      "[['CT Plain' '0.460938' '0.460938' '5.0' '30']]\n",
      "[['CT 5mm' '0.488281' '0.488281' '5.0' '32']]\n",
      "[['CT Plain' '0.488281' '0.488281' '5.0' '30']]\n",
      "[['CT 55mm Plain' '0.466797' '0.466797' '5.0' '36']]\n"
     ]
    }
   ],
   "source": [
    "data_dir = '/Users/zhengma/Documents/ConvOuch_Zheng/CQ500'\n",
    "\n",
    "for dir_entry in os.scandir(path = data_dir):\n",
    "    subject_dir_dict = dict()\n",
    "    if dir_entry.is_dir():\n",
    "        subject_dir_dict[dir_entry.name] = list()\n",
    "        print(dir_entry.name)\n",
    "        \n",
    "        # loop through sub-directories and exclude some by name\n",
    "        for sub_dir in os.scandir(dir_entry.path + \"/Unknown Study/\"):\n",
    "            if sub_dir.is_dir() and not re.search(\"(POST|(?<!PRE )CONTRAST|BONE)\", sub_dir.name):\n",
    "                dcm_files = glob.glob(sub_dir.path + \"/*.dcm\")\n",
    "                dicom_data = pydicom.read_file(dcm_files[0])\n",
    "\n",
    "                # add info for these sub-directories to a dictionary\n",
    "                sub_info = [sub_dir.name, float(dicom_data.PixelSpacing[0]), float(dicom_data.PixelSpacing[1]), float(dicom_data.SliceThickness), len(dcm_files)]\n",
    "                subject_dir_dict[dir_entry.name].append(sub_info)\n",
    "                # print(\" -{}\".format(subject_dir_dict[dir_entry.name][-1]))\n",
    "\n",
    "        # warn if no usable directories found\n",
    "        if(len(subject_dir_dict[dir_entry.name]) < 1):\n",
    "            print(\"Warning: {subject} found no usable subdirectories\".format(subject=dir_entry.name))\n",
    "            subject_dir_dict.pop(dir_entry.name)    # remove the entry from the dict\n",
    "\n",
    "        elif(len(subject_dir_dict[dir_entry.name]) > 1):\n",
    "            \n",
    "            # parse the remaining directories to find the best candidate scan\n",
    "            subject_scans = subject_dir_dict[dir_entry.name]\n",
    "\n",
    "            scans_info = np.array(subject_scans)\n",
    "            sorted_idx = np.argsort(scans_info[:, 3])\n",
    "            \n",
    "            # check for a 5mm slice scan\n",
    "            int(scans_info[sorted_idx[-1], 3].astype(float))\n",
    "            if((scans_info[sorted_idx[-1], 3].astype(float)) == 5.0):\n",
    "                scans_info_5 = scans_info[(scans_info[:, 3].astype(float)) == 5.0]\n",
    "                print(scans_info_5)\n",
    "                \n",
    "                # check if there are two 5mm slice scans\n",
    "                if(float(scans_info[sorted_idx[-2], 3]) == 5.0):\n",
    "                    # if more than one 5mm slice scan, use the study with fewest slices\n",
    "                    sorted_slices_idx = np.argsort(scans_info[:, 4])\n",
    "                    # replace with fewest slices study\n",
    "                    subject_dir_dict[dir_entry.name] = subject_dir_dict[dir_entry.name][sorted_slices_idx[-1]]\n",
    "                    if(subject_dir_dict[dir_entry.name][4] < 32):\n",
    "                        print(\"Warning: Fewer than 32 slices for {}\".format(dir_entry.path + \"/\" + subject_dir_dict[dir_entry.name][0]))\n",
    "                else:\n",
    "                    # replace entries with the 5mm study\n",
    "                    subject_dir_dict[dir_entry.name] = subject_dir_dict[dir_entry.name][sorted_idx[-1]]\n",
    "\n",
    "            else:   # no 5mm slice scans, so choose the smallest\n",
    "                # replace with the small slice scan\n",
    "                subject_dir_dict[dir_entry.name] = subject_dir_dict[dir_entry.name][sorted_idx[0]]\n",
    "\n",
    "\n",
    "convert the chosen study folder to nifti for further processing\n",
    "print(dir_entry.path + \"/\" + dir_entry.name)\n",
    "\n"
   ]
  },
  {
   "cell_type": "markdown",
   "metadata": {},
   "source": [
    "# Non-Function Code"
   ]
  },
  {
   "cell_type": "code",
   "execution_count": null,
   "metadata": {},
   "outputs": [],
   "source": [
    "# RenameDirs: used this to rename files from 'CQ500CTX CQ500CTX' to 'CQ500CTX'\n",
    "#   dir_name = dir_entry.name.split(\" \")[0]\n",
    "#   os.rename(root_dir + dir_entry.name, root_dir + dir_name)\n",
    "\n",
    "# MoveFromUnkown: \"exam/Unkown Study/*\" -> \"exam/*\" \n",
    "# for dir in dir_list:\n",
    "#     for subdir in os.listdir(dir):\n",
    "#         if subdir == \"Unknown Study\":\n",
    "#             for subsubdir in os.listdir(dir + subdir):\n",
    "#                 os.rename(dir + subdir + \"/\" + subsubdir, dir + subsubdir)\n",
    "#             os.rmdir(dir + subdir)"
   ]
  }
 ],
 "metadata": {
  "kernelspec": {
   "display_name": "Python 3",
   "language": "python",
   "name": "python3"
  },
  "language_info": {
   "codemirror_mode": {
    "name": "ipython",
    "version": 3
   },
   "file_extension": ".py",
   "mimetype": "text/x-python",
   "name": "python",
   "nbconvert_exporter": "python",
   "pygments_lexer": "ipython3",
   "version": "3.6.8"
  }
 },
 "nbformat": 4,
 "nbformat_minor": 2
}
